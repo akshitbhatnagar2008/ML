{
 "cells": [
  {
   "cell_type": "markdown",
   "metadata": {},
   "source": [
    "# Decision Tree Classifier on Wine Data"
   ]
  },
  {
   "cell_type": "code",
   "execution_count": 1,
   "metadata": {
    "collapsed": true
   },
   "outputs": [],
   "source": [
    "import numpy as np\n",
    "import pandas as pd\n",
    "from sklearn.tree import DecisionTreeClassifier\n",
    "from matplotlib import pyplot as plt"
   ]
  },
  {
   "cell_type": "code",
   "execution_count": 19,
   "metadata": {
    "collapsed": true
   },
   "outputs": [],
   "source": [
    "#Load wine_modified file"
   ]
  },
  {
   "cell_type": "code",
   "execution_count": 2,
   "metadata": {},
   "outputs": [
    {
     "name": "stdout",
     "output_type": "stream",
     "text": [
      "Total Count: 178\n",
      "Number of features: 14\n"
     ]
    }
   ],
   "source": [
    "wine_modified = pd.read_csv('wine_modified.csv')\n",
    "print (\"Total Count: \" + str(len(wine_modified)))\n",
    "print (\"Number of features: \" + str(wine_modified.shape[1]))"
   ]
  },
  {
   "cell_type": "code",
   "execution_count": 20,
   "metadata": {
    "collapsed": true
   },
   "outputs": [],
   "source": [
    "#Remove records with missing class label"
   ]
  },
  {
   "cell_type": "code",
   "execution_count": 3,
   "metadata": {
    "collapsed": true
   },
   "outputs": [],
   "source": [
    "wine_modified=wine_modified[wine_modified['class'].notnull()]"
   ]
  },
  {
   "cell_type": "code",
   "execution_count": 4,
   "metadata": {},
   "outputs": [
    {
     "name": "stdout",
     "output_type": "stream",
     "text": [
      "Total Count: 168\n",
      "Number of features: 14\n"
     ]
    }
   ],
   "source": [
    "print (\"Total Count: \" + str(len(wine_modified)))\n",
    "print (\"Number of features: \" + str(wine_modified.shape[1]))"
   ]
  },
  {
   "cell_type": "code",
   "execution_count": 21,
   "metadata": {
    "collapsed": true
   },
   "outputs": [],
   "source": [
    "#Drop records having 7 or more features as NaN"
   ]
  },
  {
   "cell_type": "code",
   "execution_count": 5,
   "metadata": {
    "collapsed": true
   },
   "outputs": [],
   "source": [
    "wine_modified=wine_modified.dropna(thresh=7)"
   ]
  },
  {
   "cell_type": "code",
   "execution_count": 6,
   "metadata": {
    "scrolled": true
   },
   "outputs": [
    {
     "name": "stdout",
     "output_type": "stream",
     "text": [
      "Total Count: 154\n",
      "Number of features: 14\n"
     ]
    }
   ],
   "source": [
    "print (\"Total Count: \" + str(len(wine_modified)))\n",
    "print (\"Number of features: \" + str(wine_modified.shape[1]))"
   ]
  },
  {
   "cell_type": "code",
   "execution_count": 63,
   "metadata": {
    "collapsed": true
   },
   "outputs": [],
   "source": [
    "##Remove the feature with >50% values NaN"
   ]
  },
  {
   "cell_type": "code",
   "execution_count": 7,
   "metadata": {
    "collapsed": true
   },
   "outputs": [],
   "source": [
    "wine_modified=wine_modified.dropna(axis=1,thresh=len(wine_modified)/2)"
   ]
  },
  {
   "cell_type": "code",
   "execution_count": 8,
   "metadata": {},
   "outputs": [
    {
     "name": "stdout",
     "output_type": "stream",
     "text": [
      "Total Count: 154\n",
      "Number of features: 13\n"
     ]
    }
   ],
   "source": [
    "print (\"Total Count: \" + str(len(wine_modified)))\n",
    "print (\"Number of features: \" + str(wine_modified.shape[1]))"
   ]
  },
  {
   "cell_type": "code",
   "execution_count": 66,
   "metadata": {
    "collapsed": true
   },
   "outputs": [],
   "source": [
    "##Get the features removed above"
   ]
  },
  {
   "cell_type": "code",
   "execution_count": 9,
   "metadata": {},
   "outputs": [
    {
     "data": {
      "text/plain": [
       "{'Ash'}"
      ]
     },
     "execution_count": 9,
     "metadata": {},
     "output_type": "execute_result"
    }
   ],
   "source": [
    "set(pd.read_csv('wine_modified.csv').columns)-set(wine_modified.columns)"
   ]
  },
  {
   "cell_type": "code",
   "execution_count": 64,
   "metadata": {
    "collapsed": true
   },
   "outputs": [],
   "source": [
    "##Fill NaN values with feature mean"
   ]
  },
  {
   "cell_type": "code",
   "execution_count": 10,
   "metadata": {
    "scrolled": true
   },
   "outputs": [
    {
     "data": {
      "text/plain": [
       "class                     1.974026\n",
       "Alcohol                  12.305935\n",
       "Malic acid                2.350455\n",
       "Alcalinity of ash        19.645455\n",
       "Magnesium                99.496552\n",
       "Total phenols             2.267403\n",
       "Flavanoids                1.937983\n",
       "Nonflavanoid phenols      0.366753\n",
       "Proanthocyanins           1.582273\n",
       "Color intensity           4.982338\n",
       "Hue                       0.954455\n",
       "OD280/OD315               2.592013\n",
       "Proline                 727.006494\n",
       "dtype: float64"
      ]
     },
     "execution_count": 10,
     "metadata": {},
     "output_type": "execute_result"
    }
   ],
   "source": [
    "wine_modified.mean()"
   ]
  },
  {
   "cell_type": "code",
   "execution_count": 11,
   "metadata": {
    "collapsed": true
   },
   "outputs": [],
   "source": [
    "wine_modified=wine_modified.fillna(wine_modified.mean())"
   ]
  },
  {
   "cell_type": "code",
   "execution_count": 65,
   "metadata": {
    "collapsed": true
   },
   "outputs": [],
   "source": [
    "##List the std of features"
   ]
  },
  {
   "cell_type": "code",
   "execution_count": 12,
   "metadata": {
    "scrolled": false
   },
   "outputs": [
    {
     "data": {
      "text/plain": [
       "Alcohol                   3.804067\n",
       "Malic acid                1.116005\n",
       "Alcalinity of ash         3.456794\n",
       "Magnesium                14.440377\n",
       "Total phenols             0.617237\n",
       "Flavanoids                0.873573\n",
       "Nonflavanoid phenols      0.127083\n",
       "Proanthocyanins           0.587671\n",
       "Color intensity           2.325204\n",
       "Hue                       0.229412\n",
       "OD280/OD315               0.723261\n",
       "Proline                 303.033368\n",
       "dtype: float64"
      ]
     },
     "execution_count": 12,
     "metadata": {},
     "output_type": "execute_result"
    }
   ],
   "source": [
    "wine_modified.loc[:,'Alcohol':].std()"
   ]
  },
  {
   "cell_type": "code",
   "execution_count": 92,
   "metadata": {
    "collapsed": true
   },
   "outputs": [],
   "source": [
    "##Remove rows with outliers in feature alcohol\n",
    "##Alcohol content cannot be negative"
   ]
  },
  {
   "cell_type": "code",
   "execution_count": 13,
   "metadata": {
    "collapsed": true
   },
   "outputs": [],
   "source": [
    "wine_modified=wine_modified[wine_modified['Alcohol'] > 0]"
   ]
  },
  {
   "cell_type": "code",
   "execution_count": 14,
   "metadata": {
    "scrolled": true
   },
   "outputs": [
    {
     "data": {
      "text/plain": [
       "class                     1.979866\n",
       "Alcohol                  12.984497\n",
       "Malic acid                2.348859\n",
       "Alcalinity of ash        19.748322\n",
       "Magnesium                99.570285\n",
       "Total phenols             2.270336\n",
       "Flavanoids                1.937244\n",
       "Nonflavanoid phenols      0.366980\n",
       "Proanthocyanins           1.596577\n",
       "Color intensity           4.990738\n",
       "Hue                       0.957289\n",
       "OD280/OD315               2.591611\n",
       "Proline                 727.060403\n",
       "dtype: float64"
      ]
     },
     "execution_count": 14,
     "metadata": {},
     "output_type": "execute_result"
    }
   ],
   "source": [
    "wine_modified.mean()"
   ]
  },
  {
   "cell_type": "code",
   "execution_count": null,
   "metadata": {
    "collapsed": true
   },
   "outputs": [],
   "source": [
    "##I won't remove any rows for proline as typical proline content is from 300 - 2000 mg/L\n",
    "##The least value is 278"
   ]
  },
  {
   "cell_type": "code",
   "execution_count": 15,
   "metadata": {
    "collapsed": true
   },
   "outputs": [],
   "source": [
    "X_train = pd.read_csv('wine_train_data.csv')"
   ]
  },
  {
   "cell_type": "code",
   "execution_count": 16,
   "metadata": {
    "collapsed": true
   },
   "outputs": [],
   "source": [
    "y_train = pd.read_csv('wine_train_labels.csv')"
   ]
  },
  {
   "cell_type": "code",
   "execution_count": 17,
   "metadata": {
    "collapsed": true
   },
   "outputs": [],
   "source": [
    "X_test,y_test,X_val,y_val = pd.read_csv('wine_test_data.csv'),pd.read_csv('wine_test_labels.csv'),pd.read_csv('wine_val_data.csv'),pd.read_csv('wine_val_labels.csv')"
   ]
  },
  {
   "cell_type": "code",
   "execution_count": null,
   "metadata": {
    "collapsed": true
   },
   "outputs": [],
   "source": [
    "##Get accuracy for criterion entropy on validation set"
   ]
  },
  {
   "cell_type": "code",
   "execution_count": 18,
   "metadata": {
    "collapsed": true
   },
   "outputs": [],
   "source": [
    "y_val=[i[0] for i in y_val.values]"
   ]
  },
  {
   "cell_type": "code",
   "execution_count": 28,
   "metadata": {
    "collapsed": true
   },
   "outputs": [],
   "source": [
    "y_train=[i[0] for i in y_train.values]"
   ]
  },
  {
   "cell_type": "code",
   "execution_count": 23,
   "metadata": {},
   "outputs": [
    {
     "name": "stdout",
     "output_type": "stream",
     "text": [
      "Validation accuracy = 0.974358974359\n"
     ]
    }
   ],
   "source": [
    "# Define Model\n",
    "clf = DecisionTreeClassifier(criterion='entropy')\n",
    "# Train\n",
    "clf.fit(X_train, y_train)\n",
    "# Predict on validation set\n",
    "y_pred = clf.predict(X_val)\n",
    "print ('Validation accuracy = ' + str(np.sum(y_pred == y_val)*1.0/len(y_val)))"
   ]
  },
  {
   "cell_type": "code",
   "execution_count": null,
   "metadata": {
    "collapsed": true
   },
   "outputs": [],
   "source": [
    "##Get accuracy for criterion Gini on validation set"
   ]
  },
  {
   "cell_type": "code",
   "execution_count": 24,
   "metadata": {},
   "outputs": [
    {
     "name": "stdout",
     "output_type": "stream",
     "text": [
      "Validation accuracy = 0.948717948718\n"
     ]
    }
   ],
   "source": [
    "# Define Model\n",
    "clf = DecisionTreeClassifier(criterion='gini')\n",
    "# Train\n",
    "clf.fit(X_train, y_train)\n",
    "# Predict on validation set\n",
    "y_pred = clf.predict(X_val)\n",
    "print ('Validation accuracy = ' + str(np.sum(y_pred == y_val)*1.0/len(y_val)))"
   ]
  },
  {
   "cell_type": "code",
   "execution_count": 135,
   "metadata": {
    "collapsed": true
   },
   "outputs": [],
   "source": [
    "##Based on above observation, entropy seems a better option\n",
    "##Lets check it on test data"
   ]
  },
  {
   "cell_type": "code",
   "execution_count": 25,
   "metadata": {
    "collapsed": true
   },
   "outputs": [],
   "source": [
    "y_test=[i[0] for i in y_test.values]"
   ]
  },
  {
   "cell_type": "code",
   "execution_count": 33,
   "metadata": {},
   "outputs": [
    {
     "name": "stdout",
     "output_type": "stream",
     "text": [
      "Test accuracy = 0.820512820513\n"
     ]
    }
   ],
   "source": [
    "# Define Model\n",
    "clf = DecisionTreeClassifier(criterion='entropy')\n",
    "# Train\n",
    "clf.fit(pd.concat([X_train,X_val]), y_train + y_val)\n",
    "# Predict on validation set\n",
    "y_pred = clf.predict(X_test)\n",
    "print ('Test accuracy = ' + str(np.sum(y_pred == y_test)*1.0/len(y_test)))"
   ]
  },
  {
   "cell_type": "code",
   "execution_count": 66,
   "metadata": {},
   "outputs": [
    {
     "name": "stdout",
     "output_type": "stream",
     "text": [
      "Validation accuracy for min_sample 2 = 0.897435897436\n",
      "Validation accuracy for min_sample 5 = 0.974358974359\n",
      "Validation accuracy for min_sample 10 = 0.948717948718\n",
      "Validation accuracy for min_sample 20 = 0.948717948718\n"
     ]
    }
   ],
   "source": [
    "for i in [2,5,10,20]:\n",
    "    clf = DecisionTreeClassifier(criterion='entropy',min_samples_split=i)\n",
    "    # Train\n",
    "    clf.fit(X_train, y_train)\n",
    "    # Predict on validation set\n",
    "    y_pred = clf.predict(X_val)\n",
    "    print ('Validation accuracy for min_sample '+ str(i) + ' = ' + str(np.sum(y_pred == y_val)*1.0/len(y_val)))"
   ]
  },
  {
   "cell_type": "code",
   "execution_count": 71,
   "metadata": {},
   "outputs": [
    {
     "name": "stdout",
     "output_type": "stream",
     "text": [
      "Test accuracy for min_sample 5 = 0.820512820513\n"
     ]
    }
   ],
   "source": [
    "clf = DecisionTreeClassifier(criterion='entropy',min_samples_split=5)\n",
    "# Train\n",
    "clf.fit(pd.concat([X_train,X_val]), y_train + y_val)\n",
    "# Predict on validation set\n",
    "y_pred = clf.predict(X_test)\n",
    "print ('Test accuracy for min_sample 5 = ' + str(np.sum(y_pred == y_test)*1.0/len(y_test)))"
   ]
  },
  {
   "cell_type": "code",
   "execution_count": 76,
   "metadata": {},
   "outputs": [
    {
     "name": "stdout",
     "output_type": "stream",
     "text": [
      "Valiation accuracy for sample size 20 = 0.692307692308\n",
      "Valiation accuracy for sample size 40 = 0.820512820513\n",
      "Valiation accuracy for sample size 60 = 0.871794871795\n",
      "Valiation accuracy for sample size 80 = 0.923076923077\n",
      "Valiation accuracy for sample size 100 = 0.948717948718\n"
     ]
    }
   ],
   "source": [
    "val={}\n",
    "for i in range(20,110,20):\n",
    "    clf = DecisionTreeClassifier(criterion='entropy',min_samples_split=5)\n",
    "    # Train\n",
    "    clf.fit(X_train[:i], y_train[:i])\n",
    "    # Predict on validation set\n",
    "    y_pred = clf.predict(X_val)\n",
    "    print ('Valiation accuracy for sample size '+ str(i) + ' = ' + str(np.sum(y_pred == y_val)*1.0/len(y_val)));\n",
    "    val[i]=str(np.sum(y_pred == y_val)*1.0/len(y_val))"
   ]
  },
  {
   "cell_type": "code",
   "execution_count": 85,
   "metadata": {
    "scrolled": true
   },
   "outputs": [
    {
     "data": {
      "image/png": "[encoded data removed]",
      "text/plain": [
       "<matplotlib.figure.Figure at 0x1074dbe90>"
      ]
     },
     "metadata": {},
     "output_type": "display_data"
    }
   ],
   "source": [
    "#fig = plt.figure()\n",
    "plt.plot(sorted(list(val.keys())),sorted(list(val.values())));\n",
    "plt.xlabel('k-value')\n",
    "plt.ylabel('Accuracy')\n",
    "plt.show()"
   ]
  },
  {
   "cell_type": "code",
   "execution_count": 87,
   "metadata": {
    "collapsed": true
   },
   "outputs": [],
   "source": [
    "X_train_val = pd.concat([X_train,X_val])#,pd.concat([y_train,y_val])"
   ]
  },
  {
   "cell_type": "code",
   "execution_count": 88,
   "metadata": {
    "collapsed": true,
    "scrolled": true
   },
   "outputs": [],
   "source": [
    "y_train_val =y_train + y_val"
   ]
  },
  {
   "cell_type": "code",
   "execution_count": 89,
   "metadata": {
    "collapsed": true
   },
   "outputs": [],
   "source": [
    "from sklearn.preprocessing import StandardScaler"
   ]
  },
  {
   "cell_type": "code",
   "execution_count": 90,
   "metadata": {},
   "outputs": [
    {
     "data": {
      "text/plain": [
       "array([ 1.,  1.,  1.,  1.,  1.,  1.,  1.,  1.,  1.,  1.,  1.,  1.,  1.])"
      ]
     },
     "execution_count": 90,
     "metadata": {},
     "output_type": "execute_result"
    }
   ],
   "source": [
    "std_scaler = StandardScaler()\n",
    "X_train_minmax = std_scaler.fit_transform(X_train_val)\n",
    "X_train_minmax.mean(axis=0)\n",
    "X_train_minmax.std(axis=0)"
   ]
  },
  {
   "cell_type": "code",
   "execution_count": 91,
   "metadata": {
    "collapsed": true
   },
   "outputs": [],
   "source": [
    "X_train_scaled = std_scaler.transform(X_train)"
   ]
  },
  {
   "cell_type": "code",
   "execution_count": 92,
   "metadata": {
    "collapsed": true
   },
   "outputs": [],
   "source": [
    "X_train_scaled_df = pd.DataFrame(X_train_scaled)"
   ]
  },
  {
   "cell_type": "code",
   "execution_count": 93,
   "metadata": {
    "collapsed": true
   },
   "outputs": [],
   "source": [
    "X_val_scaled = std_scaler.transform(X_val)"
   ]
  },
  {
   "cell_type": "code",
   "execution_count": 94,
   "metadata": {
    "collapsed": true
   },
   "outputs": [],
   "source": [
    "X_val_scaled_df = pd.DataFrame(X_val_scaled)"
   ]
  },
  {
   "cell_type": "code",
   "execution_count": 95,
   "metadata": {
    "collapsed": true
   },
   "outputs": [],
   "source": [
    "X_test_scaled = std_scaler.transform(X_test)"
   ]
  },
  {
   "cell_type": "code",
   "execution_count": 96,
   "metadata": {
    "collapsed": true
   },
   "outputs": [],
   "source": [
    "X_test_scaled_df = pd.DataFrame(X_test_scaled)"
   ]
  },
  {
   "cell_type": "code",
   "execution_count": 97,
   "metadata": {
    "collapsed": true
   },
   "outputs": [],
   "source": [
    "from sklearn.neighbors import KNeighborsClassifier"
   ]
  },
  {
   "cell_type": "code",
   "execution_count": 98,
   "metadata": {
    "collapsed": true
   },
   "outputs": [],
   "source": [
    "X_train_val_sc = pd.concat([X_train_scaled_df,X_val_scaled_df])"
   ]
  },
  {
   "cell_type": "code",
   "execution_count": 99,
   "metadata": {
    "collapsed": true
   },
   "outputs": [],
   "source": [
    "knn = KNeighborsClassifier(n_neighbors=3,p=2)"
   ]
  },
  {
   "cell_type": "code",
   "execution_count": 100,
   "metadata": {},
   "outputs": [
    {
     "data": {
      "text/plain": [
       "KNeighborsClassifier(algorithm='auto', leaf_size=30, metric='minkowski',\n",
       "           metric_params=None, n_jobs=1, n_neighbors=3, p=2,\n",
       "           weights='uniform')"
      ]
     },
     "execution_count": 100,
     "metadata": {},
     "output_type": "execute_result"
    }
   ],
   "source": [
    "knn.fit(X_train_val_sc,y_train_val)"
   ]
  },
  {
   "cell_type": "code",
   "execution_count": 115,
   "metadata": {},
   "outputs": [
    {
     "name": "stdout",
     "output_type": "stream",
     "text": [
      "accuracy = 0.871794871795\n"
     ]
    }
   ],
   "source": [
    "predictions = knn.predict(X_test_scaled_df)\n",
    "print ('accuracy = ' + str(np.sum(predictions == y_test)/(len(y_test)*1.0)))"
   ]
  },
  {
   "cell_type": "code",
   "execution_count": 120,
   "metadata": {},
   "outputs": [
    {
     "name": "stdout",
     "output_type": "stream",
     "text": [
      "accuracy for p=1 is 0.948717948718\n",
      "accuracy for p=2 is 0.923076923077\n",
      "accuracy for p=8 is 0.923076923077\n"
     ]
    }
   ],
   "source": [
    "#p=1 -> Manhattan, p=2 -> Euclidean, p=8 -> Minkowski \n",
    "for i in [1,2,8]:\n",
    "    knn = KNeighborsClassifier(n_neighbors=3,p=i)\n",
    "    knn.fit(X_train_scaled,y_train)\n",
    "    predictions = knn.predict(X_val_scaled)\n",
    "    print ('accuracy for p=' + str(i) + ' is ' + str(np.sum(predictions == y_val)/(len(y_val)*1.0)))"
   ]
  },
  {
   "cell_type": "code",
   "execution_count": null,
   "metadata": {
    "collapsed": true
   },
   "outputs": [],
   "source": [
    "## Choosing Manhattan distance\n",
    "## Test on p=1"
   ]
  },
  {
   "cell_type": "code",
   "execution_count": 121,
   "metadata": {
    "scrolled": true
   },
   "outputs": [
    {
     "name": "stdout",
     "output_type": "stream",
     "text": [
      "accuracy for p=1 is 0.948717948718\n"
     ]
    }
   ],
   "source": [
    "knn = KNeighborsClassifier(n_neighbors=3,p=1)\n",
    "knn.fit(X_train_scaled,y_train)\n",
    "predictions = knn.predict(X_test_scaled)\n",
    "print ('accuracy for p=' + str(1) + ' is ' + str(np.sum(predictions == y_test)/(len(y_test)*1.0)))"
   ]
  },
  {
   "cell_type": "code",
   "execution_count": 153,
   "metadata": {},
   "outputs": [
    {
     "name": "stdout",
     "output_type": "stream",
     "text": [
      "accuracy for k=1 is 0.948717948718\n",
      "\n",
      "accuracy for k=3 is 0.923076923077\n",
      "\n",
      "accuracy for k=5 is 0.948717948718\n",
      "\n",
      "accuracy for k=7 is 0.974358974359\n",
      "\n",
      "accuracy for k=9 is 0.948717948718\n",
      "\n"
     ]
    }
   ],
   "source": [
    "val={}\n",
    "for d in [1,3,5,7,9]:\n",
    "    knn = KNeighborsClassifier(n_neighbors=d,p=2)\n",
    "    knn.fit(X_train_scaled,y_train)\n",
    "    predictions = knn.predict(X_val_scaled)\n",
    "    print ('accuracy for k=' + str(d) + ' is ' + str(np.sum(predictions == y_val)/(len(y_val)*1.0)))\n",
    "    val[d]=(np.sum(predictions == y_val)/(len(y_val)*1.0))"
   ]
  },
  {
   "cell_type": "code",
   "execution_count": 154,
   "metadata": {},
   "outputs": [
    {
     "data": {
      "text/plain": [
       "[(1, 0.94871794871794868),\n",
       " (3, 0.92307692307692313),\n",
       " (9, 0.94871794871794868),\n",
       " (5, 0.94871794871794868),\n",
       " (7, 0.97435897435897434)]"
      ]
     },
     "execution_count": 154,
     "metadata": {},
     "output_type": "execute_result"
    }
   ],
   "source": [
    "val.items()"
   ]
  },
  {
   "cell_type": "code",
   "execution_count": 158,
   "metadata": {},
   "outputs": [
    {
     "data": {
      "image/png": "[encoded data removed]",
      "text/plain": [
       "<matplotlib.figure.Figure at 0x107cd9490>"
      ]
     },
     "metadata": {},
     "output_type": "display_data"
    }
   ],
   "source": [
    "lists = sorted(val.items())\n",
    "x, y = zip(*lists)\n",
    "plt.plot(x,y)\n",
    "plt.xlabel('k-value')\n",
    "plt.ylabel('Accuracy')\n",
    "plt.show()"
   ]
  },
  {
   "cell_type": "code",
   "execution_count": 356,
   "metadata": {
    "collapsed": true
   },
   "outputs": [],
   "source": [
    "##Choosing k=7"
   ]
  },
  {
   "cell_type": "code",
   "execution_count": 160,
   "metadata": {},
   "outputs": [
    {
     "name": "stdout",
     "output_type": "stream",
     "text": [
      "accuracy for k=7 is 0.948717948718\n"
     ]
    }
   ],
   "source": [
    "knn = KNeighborsClassifier(n_neighbors=7,p=2)\n",
    "knn.fit(X_train_scaled,y_train)\n",
    "predictions = knn.predict(X_test_scaled)\n",
    "print ('accuracy for k=7 is ' + str(np.sum(predictions == y_test)/(len(y_test)*1.0)))"
   ]
  },
  {
   "cell_type": "code",
   "execution_count": 170,
   "metadata": {},
   "outputs": [
    {
     "name": "stdout",
     "output_type": "stream",
     "text": [
      "accuracy for sample size 20 is 0.948717948718\n",
      "accuracy for sample size 40 is 1.0\n",
      "accuracy for sample size 60 is 1.0\n",
      "accuracy for sample size 80 is 1.0\n",
      "accuracy for sample size 100 is 0.923076923077\n"
     ]
    }
   ],
   "source": [
    "val={}\n",
    "for i in range(20,110,20):\n",
    "    knn = KNeighborsClassifier(n_neighbors=3,p=2)\n",
    "    knn.fit(X_train_scaled[:i],y_train[:i])\n",
    "    predictions = knn.predict(X_val_scaled)\n",
    "    print ('accuracy for sample size ' + str(i) + ' is ' + str(np.sum(predictions == y_val)/(len(y_val)*1.0)))\n",
    "    val[i]=(np.sum(predictions == y_val)/(len(y_val)*1.0))"
   ]
  },
  {
   "cell_type": "code",
   "execution_count": 171,
   "metadata": {},
   "outputs": [
    {
     "data": {
      "image/png": "[encoded data removed]",
      "text/plain": [
       "<matplotlib.figure.Figure at 0x107d07390>"
      ]
     },
     "metadata": {},
     "output_type": "display_data"
    }
   ],
   "source": [
    "lists = sorted(val.items())\n",
    "x, y = zip(*lists)\n",
    "plt.plot(x,y)\n",
    "plt.xlabel('k-value')\n",
    "plt.ylabel('Accuracy')\n",
    "plt.show()"
   ]
  }
 ],
 "metadata": {
  "kernelspec": {
   "display_name": "Python 2",
   "language": "python",
   "name": "python2"
  },
  "language_info": {
   "codemirror_mode": {
    "name": "ipython",
    "version": 2
   },
   "file_extension": ".py",
   "mimetype": "text/x-python",
   "name": "python",
   "nbconvert_exporter": "python",
   "pygments_lexer": "ipython2",
   "version": "2.7.13"
  }
 },
 "nbformat": 4,
 "nbformat_minor": 2
}
