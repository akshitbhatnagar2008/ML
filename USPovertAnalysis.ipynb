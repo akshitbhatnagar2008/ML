{
 "cells": [
  {
   "cell_type": "markdown",
   "metadata": {},
   "source": [
    "# US Poverty Analysis"
   ]
  },
  {
   "cell_type": "markdown",
   "metadata": {},
   "source": [
    "Task is to analyze the evolution of poverty and income distribution in the United States.\n",
    "\n",
    "### Data source: \n",
    "\n",
    "https://www.census.gov/did/www/saipe/data/statecounty/data/index.html\n",
    "\n",
    "Use the given code snippet to access the data files\n",
    "\n",
    "The data fields are described here:https://www.census.gov/did/www/saipe/data/statecounty/data/2000.html \n",
    "Extract the required fields. The required fields are: \n",
    "   'State FIPS', 'County FIPS','Poverty Estimate All Ages', 'Poverty Percent All Ages', \n",
    "   'Poverty Estimate Under Age 18', 'Poverty Percent Under Age 18', 'Poverty Estimate Ages 5-17', \n",
    "   'Poverty Percent Ages 5-17', 'Median Household Income','Name','Postal'\n",
    " \n",
    "###### Pandas Data-Frames\n",
    "\n",
    "1)\n",
    "    - create a data frame with just the country-wide data\n",
    "    - create a data frame with just the data of the states\n",
    "    - create a data frame with just the data of the counties\n",
    "\n",
    "    \n",
    "2) Plot a graph of 'Poverty Percent All Ages' of the entire country vs year (line graph).\n",
    "   Plot a graph of 'Median Household Income' of the entire country vs year (line graph)\n",
    "\n",
    "3) Plot the total poverty in each state across the years and compare it with the country-wide poverty\n",
    "\n",
    "4) Plot county-wide poverty stats\n",
    "\n",
    "- Create a dataframe with the Unique FIPS code (obtained by combining the state and county FIPS), 'Poverty Percent All Ages' in every county in 2000, 'Poverty Percent All Ages' in every county in 2013 and the change ratio between 2000 and 2013. (change ratio = poverty % in 2013 / poverty % in 2000. Divide this by the nationwide change ratio for normalization. A value > 1 indicates that poverty is higher compared to the nation-wide poverty and a value < 1 indicates that poverty is lower compared to the nationwide poverty.)\n",
    "\n",
    "\n",
    "FIPS code is a unique code to identify counties and states in the US. In this data you have been given state code and county code separately. You will have to combine the state code and the county code to generate a unique code for each place, which will be used to plot on the map. Please note that before combining, make sure the state code is 2 digits and county code is 3 digits by adding zeroes to the front.\n",
    "\n",
    "\n",
    "- Plot the 'Poverty Percent All Ages' for each county on the map for the years 2000 and 2013.\n",
    "- Plot the normalized change ratio on the map.\n",
    "- Find the counties which witnessed the most positive and most negative change in poverty,\n",
    "\n",
    "For this visualization, we will use a library called Vincent, which lets you plot data for places using their FIPS code instead of using latitude/longitude. \n",
    "\n",
    "To install vincent do\n",
    "`pip install vincent` or `conda install vincent`\n",
    "\n",
    "\n",
    "To use it in the notebook and display the maps inside the notebook do\n",
    "\n",
    "`import vincent`\n",
    "\n",
    "`vincent.core.initialize_notebook()`\n",
    "\n",
    "You can find further details about how to use it here - http://wrobstory.github.io/2013/10/mapping-data-python.html and https://github.com/wrobstory/vincent\n",
    "\n",
    "Before closing your notebook, please clear the output of the vincent maps as it becomes difficult of reload the notebook later. For plotting the counties on the map, you will need to use the file us_counties.topo.json present in the exam folder.\n",
    "\n",
    "Tips: -  \n",
    "    Check the type of datafields before operating on them. It will also help you debug for errors.\n",
    "    Clean the data before using it. Drop those rows before using them."
   ]
  },
  {
   "cell_type": "code",
   "execution_count": null,
   "metadata": {
    "collapsed": true
   },
   "outputs": [],
   "source": [
    "import urllib2\n",
    "import numpy as np\n",
    "import pandas as pd\n",
    "\n",
    "df=pd.DataFrame(data=None,columns=['State FIPS', 'County FIPS','FIPS','Poverty Estimate All Ages', 'Poverty Percent All Ages', 'Poverty Estimate Under Age 18', 'Poverty Percent Under Age 18', 'Poverty Estimate Ages 5-17', 'Poverty Percent Ages 5-17', 'Median Household Income','Name','Postal','Year'])\n",
    "urls = ['https://www.census.gov/did/www/saipe/downloads/estmod93/est93ALL.dat',\n",
    "        'https://www.census.gov/did/www/saipe/downloads/estmod95/est95ALL.dat',\n",
    "        'https://www.census.gov/did/www/saipe/downloads/estmod97/est97ALL.dat',\n",
    "        'https://www.census.gov/did/www/saipe/downloads/estmod98/est98ALL.dat',\n",
    "        'https://www.census.gov/did/www/saipe/downloads/estmod99/est99ALL.dat',\n",
    "        'https://www.census.gov/did/www/saipe/downloads/estmod00/est00ALL.dat',\n",
    "        'https://www.census.gov/did/www/saipe/downloads/estmod01/est01ALL.dat',\n",
    "        'https://www.census.gov/did/www/saipe/downloads/estmod02/est02ALL.dat',\n",
    "        'https://www.census.gov/did/www/saipe/downloads/estmod03/est03ALL.dat',\n",
    "        'https://www.census.gov/did/www/saipe/downloads/estmod04/est04ALL.txt',\n",
    "        'https://www.census.gov/did/www/saipe/downloads/estmod05/est05ALL.txt',\n",
    "        'https://www.census.gov/did/www/saipe/downloads/estmod06/est06ALL.txt',\n",
    "        'https://www.census.gov/did/www/saipe/downloads/estmod07/est07ALL.txt',\n",
    "        'https://www.census.gov/did/www/saipe/downloads/estmod08/est08ALL.txt',\n",
    "        'https://www.census.gov/did/www/saipe/downloads/estmod09/est09ALL.txt',\n",
    "        'https://www.census.gov/did/www/saipe/downloads/estmod10/est10ALL.txt',\n",
    "        'https://www.census.gov/did/www/saipe/downloads/estmod11/est11all.txt',\n",
    "        'https://www.census.gov/did/www/saipe/downloads/estmod12/est12ALL.txt',\n",
    "        'https://www.census.gov/did/www/saipe/downloads/estmod13/est13ALL.txt']\n",
    "\n",
    "def getUrl(urls):\n",
    "    j=0\n",
    "    for url in urls:\n",
    "        i=0\n",
    "        print url[-9:-7]\n",
    "        if int(url[-9:-7]) > 50:\n",
    "            year=str(19)+url[-9:-7]\n",
    "        else:\n",
    "            year=str(20)+url[-9:-7]\n",
    "        response = urllib2.urlopen(url)\n",
    "        lines = response.read().split('\\n')\n",
    "        l=len(lines)\n",
    "        for line in lines:\n",
    "            #print line\n",
    "            cfip=line[3:6]\n",
    "            cfip=cfip.replace(\" \",\"0\")\n",
    "            #print cfip\n",
    "            if i<l-1:\n",
    "                df.loc[j]=[line[0:2],cfip,line[0:2]+cfip,line[7:16],line[34:39],line[49:58],line[76:81],line[92:100],line[118:123],line[134:140],line[193:239],line[239:241],year]\n",
    "                i+=1\n",
    "                j+=1\n",
    "        \n",
    "        #TODO -code to use the text data\n",
    "       \n",
    "        \n",
    "getUrl(urls)"
   ]
  },
  {
   "cell_type": "markdown",
   "metadata": {},
   "source": [
    "### Create the dataframes\n",
    "\n",
    "Download and parse the data files and create the following three pandas dataframes: (your dataframes should have data in the format shown below)\n",
    "\n",
    " * US_stat: statistics for the whole United States.\n",
    " * states_stat: Statistics for each state.\n",
    " * county_stat: Statistics for each county."
   ]
  },
  {
   "cell_type": "code",
   "execution_count": null,
   "metadata": {
    "collapsed": true
   },
   "outputs": [],
   "source": [
    "US_stat=df[df['State FIPS']=='00']\n",
    "US_stat=US_stat.set_index(US_stat['Year'])\n"
   ]
  },
  {
   "cell_type": "code",
   "execution_count": null,
   "metadata": {
    "collapsed": true
   },
   "outputs": [],
   "source": [
    "US_stat.head()"
   ]
  },
  {
   "cell_type": "code",
   "execution_count": null,
   "metadata": {
    "collapsed": true
   },
   "outputs": [],
   "source": [
    "states_stat=df[(df['State FIPS']!='00') & (df['County FIPS']=='000')]\n",
    "states_stat=states_stat.set_index(states_stat['Postal'])\n",
    "states_stat=states_stat.set_index(states_stat['Year'],append=True)\n",
    "states_stat=states_stat.sort_index()"
   ]
  },
  {
   "cell_type": "code",
   "execution_count": null,
   "metadata": {
    "collapsed": true
   },
   "outputs": [],
   "source": [
    "states_stat.head()"
   ]
  },
  {
   "cell_type": "code",
   "execution_count": null,
   "metadata": {
    "collapsed": true
   },
   "outputs": [],
   "source": [
    "states_stat[states_stat['Postal']=='DC']#.unique()"
   ]
  },
  {
   "cell_type": "code",
   "execution_count": null,
   "metadata": {
    "collapsed": true
   },
   "outputs": [],
   "source": [
    "county_stat=df[(df['State FIPS']!='00') & (df['County FIPS']!='000')]\n",
    "county_stat=county_stat.set_index(county_stat['Postal'])\n",
    "county_stat=county_stat.set_index(county_stat['FIPS'],append=True)\n",
    "county_stat=county_stat.set_index(county_stat['Year'],append=True)\n",
    "county_stat=county_stat.sort_index()"
   ]
  },
  {
   "cell_type": "code",
   "execution_count": null,
   "metadata": {
    "collapsed": true
   },
   "outputs": [],
   "source": [
    "county_stat\n"
   ]
  },
  {
   "cell_type": "markdown",
   "metadata": {},
   "source": [
    "### Plot the US-wide statistics on poverty.\n",
    "\n",
    "Plot the 'Poverty Percent All Ages' and 'Median Household Income' across entire US over the years. \n",
    "\n",
    "Compute the percentage of increase in poverty in the US between 2000 and 2013. - [poverty % in 2013] / [poverty % in 2000]"
   ]
  },
  {
   "cell_type": "code",
   "execution_count": null,
   "metadata": {
    "collapsed": true
   },
   "outputs": [],
   "source": [
    "import matplotlib.pyplot as plt\n",
    "\n",
    "print \"print poverty percent change ratio from 2000 to 2013 = \" + str(float(US_stat['Poverty Percent All Ages'].loc['2013'])/float(US_stat['Poverty Percent All Ages'].loc['2000']))\n",
    "\n",
    "fig = plt.figure(figsize=(8,2.5))\n",
    "ax = fig.add_subplot(1,2,1)\n",
    "ax.plot(US_stat['Median Household Income'])\n",
    "ax.grid()\n",
    "ax.set_title('Median Household Income')\n",
    "\n",
    "ax = fig.add_subplot(1,2,2)\n",
    "ax.plot(US_stat['Poverty Percent All Ages'])\n",
    "ax.grid()\n",
    "ax.set_title('Poverty Percent All Ages')\n",
    "plt.show()"
   ]
  },
  {
   "cell_type": "markdown",
   "metadata": {},
   "source": [
    "### 2000 was a good year\n",
    "\n",
    "We see from these graphs that even though the median household in the US keeps increasing at a more or less constant rate, the pocerty levels reached a minimum at 2000 and have increased dramatically , by 40% since then.\n",
    "\n",
    "We will now attempt to identify the geographic distribution of the rise in poverty since 2000.\n",
    "\n",
    "We start by plotting the time evolution of poverty for each of the states.\n",
    "\n",
    "### Plot the change in poverty percentages by state.\n",
    "\n",
    "For each state, plot the poverty levels across time and compare it with the nation-wide poverty level. Produce a graph similar to the ones below."
   ]
  },
  {
   "cell_type": "code",
   "execution_count": null,
   "metadata": {
    "collapsed": true
   },
   "outputs": [],
   "source": [
    "states_stat.loc[states_stat.index[3][0]] #['Poverty Percent All Ages']"
   ]
  },
  {
   "cell_type": "code",
   "execution_count": null,
   "metadata": {
    "collapsed": true
   },
   "outputs": [],
   "source": [
    "states_stat.loc[states_stat.index[968][0]]"
   ]
  },
  {
   "cell_type": "code",
   "execution_count": null,
   "metadata": {
    "collapsed": true,
    "scrolled": true
   },
   "outputs": [],
   "source": [
    "fig, a = plt.subplots(11, 5,sharex='col', sharey='row',figsize=(7,15))\n",
    "c=0\n",
    "s=19\n",
    "for ax in a:\n",
    "    for j in range(5):\n",
    "        if c>=969:\n",
    "            for k in range(1,5):\n",
    "                for tick in ax[k].xaxis.get_major_ticks():\n",
    "                    tick.label.set_fontsize(5)\n",
    "            break\n",
    "        ax[j].plot(states_stat.loc[states_stat.index[c][0]]['Poverty Percent All Ages'],color='Red')\n",
    "        ax[j].plot(US_stat['Poverty Percent All Ages'],color='Blue')\n",
    "        ax[j].grid()\n",
    "        ax[j].set_title(states_stat.index[c][0],size=8)\n",
    "        for tick in ax[j].yaxis.get_major_ticks():\n",
    "                tick.label.set_fontsize(7)\n",
    "        for tick in ax[j].xaxis.get_major_ticks():\n",
    "                tick.label.set_fontsize(5)\n",
    "        c+=s\n",
    "plt.show()"
   ]
  },
  {
   "cell_type": "code",
   "execution_count": null,
   "metadata": {
    "collapsed": true
   },
   "outputs": [],
   "source": [
    "states_stat['diff2013']=pd.to_numeric(states_stat[states_stat['Year']=='2013']['Poverty Percent All Ages'])-pd.to_numeric(US_stat[US_stat['Year']=='2013']['Poverty Percent All Ages'])"
   ]
  },
  {
   "cell_type": "code",
   "execution_count": null,
   "metadata": {
    "collapsed": true,
    "scrolled": true
   },
   "outputs": [],
   "source": [
    "import string\n",
    "l=[]\n",
    "k=[]\n",
    "m=[]\n",
    "for i in states_stat[states_stat['diff2013']>.5]['Name'].values:\n",
    "    l.append(i.translate(None, string.whitespace))\n",
    "\n",
    "for j in states_stat[states_stat['diff2013']<-.5]['Name'].values:\n",
    "    k.append(j.translate(None, string.whitespace))\n",
    "    \n",
    "for o in states_stat[(states_stat['diff2013']>=-.5) & (states_stat['diff2013']<=.5)]['Name'].values:\n",
    "    m.append(o.translate(None, string.whitespace))    "
   ]
  },
  {
   "cell_type": "code",
   "execution_count": null,
   "metadata": {
    "collapsed": true
   },
   "outputs": [],
   "source": [
    "state_loc=pd.DataFrame()"
   ]
  },
  {
   "cell_type": "code",
   "execution_count": null,
   "metadata": {
    "collapsed": true
   },
   "outputs": [],
   "source": [
    "lk=r'state_loc.csv'\n",
    "state_loc=pd.read_csv(lk,header=None, error_bad_lines=False,names=['Postal','Name','Lat','Long'])"
   ]
  },
  {
   "cell_type": "code",
   "execution_count": null,
   "metadata": {
    "collapsed": true
   },
   "outputs": [],
   "source": [
    "state_loc=state_loc[state_loc['Postal']!='AK']"
   ]
  },
  {
   "cell_type": "code",
   "execution_count": null,
   "metadata": {
    "collapsed": true
   },
   "outputs": [],
   "source": [
    "state_loc=state_loc[state_loc['Postal']!='HI']"
   ]
  },
  {
   "cell_type": "code",
   "execution_count": null,
   "metadata": {
    "collapsed": true
   },
   "outputs": [],
   "source": [
    "states_stat['state_diff']=states_stat[\"Postal\"].map(str) + str(states_stat[\"diff2013\"])"
   ]
  },
  {
   "cell_type": "markdown",
   "metadata": {},
   "source": [
    "###### Below map shows the poverty levels as comapred to the country wide poverty for year 2013\n",
    "####### An important thing to note from above plots is that there are few very poor states which have a big difference from national average\n",
    "\n",
    "States in red are most poor states, there are states like MS,NM,LA which have over 4 percent difference with National overall poverty. Most of the high percent poverty rate states are in East coast.\n",
    "\n",
    "The blue states are the states that have lower poverty rate when compared to National poverty rate.\n",
    "\n",
    "The green ones are almost same as National.\n",
    "\n",
    "AL,AR,DC,LA,MS,NM,WV - Most poor states"
   ]
  },
  {
   "cell_type": "code",
   "execution_count": null,
   "metadata": {
    "collapsed": true,
    "scrolled": false
   },
   "outputs": [],
   "source": [
    "import matplotlib.pyplot as plt\n",
    "from mpl_toolkits.basemap import Basemap\n",
    "from matplotlib.patches import Polygon\n",
    "\n",
    "plt.figure(figsize=(12,6))\n",
    "# create the map\n",
    "map = Basemap(llcrnrlon=-119,llcrnrlat=22,urcrnrlon=-64,urcrnrlat=49,\n",
    "        projection='lcc',lat_1=33,lat_2=45,lon_0=-95)\n",
    "\n",
    "map.readshapefile('st99_d00', name='states', drawbounds=True)\n",
    "\n",
    "# collect the state names from the shapefile attributes so we can\n",
    "# look up the shape obect for a state by it's name\n",
    "state_names = []\n",
    "for shape_dict in map.states_info:\n",
    "    state_names.append(shape_dict['NAME'].translate(None, string.whitespace))\n",
    "\n",
    "ax = plt.gca() # get current axes instance\n",
    "\n",
    "# get Texas and draw the filled polygon\n",
    "for i in l:\n",
    "    #print i\n",
    "    #print state_names.index(i)\n",
    "    seg = map.states[state_names.index(i)]\n",
    "    poly = Polygon(seg, facecolor='red',edgecolor='red')\n",
    "    ax.add_patch(poly)\n",
    "    seg = map.states[106]\n",
    "    poly = Polygon(seg, facecolor='red',edgecolor='red')\n",
    "    ax.add_patch(poly)\n",
    "\n",
    "for x in k:\n",
    "    #print x\n",
    "    #print state_names.index(x)\n",
    "    seg = map.states[state_names.index(x)]\n",
    "    poly = Polygon(seg, facecolor='blue',edgecolor='blue')\n",
    "    ax.add_patch(poly)   \n",
    "    seg = map.states[97]\n",
    "    poly = Polygon(seg, facecolor='blue',edgecolor='blue',alpha=.4)\n",
    "    ax.add_patch(poly)  \n",
    "    seg = map.states[101]\n",
    "    poly = Polygon(seg, facecolor='blue',edgecolor='blue',alpha=.4)\n",
    "    ax.add_patch(poly)\n",
    "\n",
    "for y in m:\n",
    "    #print y\n",
    "    seg = map.states[state_names.index(y)]\n",
    "    poly = Polygon(seg, facecolor='green',edgecolor='green',alpha=.7)\n",
    "    ax.add_patch(poly)\n",
    "\n",
    "lons = state_loc['Long'].values\n",
    "lats = state_loc['Lat'].values\n",
    "x,y = map(lons, lats)    \n",
    "    \n",
    "for label, xpt, ypt in zip(state_loc['Postal'], x,y):\n",
    "    plt.text(xpt, ypt, label) \n",
    "#for label, xpt, ypt in zip(states_stat[states_stat['Year']=='2013']['diff2013'], x,y):\n",
    "    #plt.text(xpt+10000, ypt+5000, label)\n",
    "    \n",
    "plt.show()"
   ]
  },
  {
   "cell_type": "markdown",
   "metadata": {},
   "source": [
    "##### We can pretty much say from the below graph that the states which are below National average in poverty are also below national median household income\n",
    "For example - states like AL,AR,LA,MS,NM,WV have median income way less than national median income"
   ]
  },
  {
   "cell_type": "code",
   "execution_count": null,
   "metadata": {
    "collapsed": true
   },
   "outputs": [],
   "source": [
    "fig, a = plt.subplots(11, 5,sharex='col', sharey='row',figsize=(7,15))\n",
    "c=0\n",
    "s=19\n",
    "for ax in a:\n",
    "    for j in range(5):\n",
    "        if c>=969:\n",
    "            for k in range(1,5):\n",
    "                for tick in ax[k].xaxis.get_major_ticks():\n",
    "                    tick.label.set_fontsize(5)\n",
    "            break\n",
    "        ax[j].plot(states_stat.loc[states_stat.index[c][0]]['Median Household Income'],color='Red')\n",
    "        ax[j].plot(US_stat['Median Household Income'],color='Blue')\n",
    "        ax[j].grid()\n",
    "        ax[j].set_title(states_stat.index[c][0],size=8)\n",
    "        for tick in ax[j].yaxis.get_major_ticks():\n",
    "                tick.label.set_fontsize(7)\n",
    "        for tick in ax[j].xaxis.get_major_ticks():\n",
    "                tick.label.set_fontsize(5)\n",
    "        c+=s\n",
    "plt.show()\n",
    "\n"
   ]
  },
  {
   "cell_type": "code",
   "execution_count": null,
   "metadata": {
    "collapsed": true
   },
   "outputs": [],
   "source": []
  },
  {
   "cell_type": "markdown",
   "metadata": {},
   "source": [
    "### plot poverty statistics by county\n",
    "\n",
    "Using the vincent library and the dataframe `county_stat`, generate the following three maps.\n",
    "\n",
    "1. Overall percentage of poverty for each county in 2000.\n",
    "![poverty2000](Poverty2000.jpg)\n",
    "1. Overall percentage of poverty for each county in 2013.\n",
    "![poverty2013](Poverty2013.jpg)\n",
    "1. Ratio between percentage of change in poverty from 2000 to 2013 for each county. Divided by the nation-wide change in poverty (1.39).\n",
    "![povertyChange](PovertyChange.jpg)"
   ]
  },
  {
   "cell_type": "markdown",
   "metadata": {},
   "source": [
    "### Adding map for overall percentage of poverty for each county in 2000."
   ]
  },
  {
   "cell_type": "code",
   "execution_count": null,
   "metadata": {
    "collapsed": true,
    "scrolled": true
   },
   "outputs": [],
   "source": [
    "county_2000=county_stat[county_stat['Year']=='2000']\n",
    "county_2000=county_2000.dropna(axis=0)\n",
    "county_2000['Poverty Percent All Ages']=pd.to_numeric(county_2000['Poverty Percent All Ages'], errors='coerce');"
   ]
  },
  {
   "cell_type": "code",
   "execution_count": null,
   "metadata": {
    "collapsed": true
   },
   "outputs": [],
   "source": [
    "import json\n",
    "import pandas as pd\n",
    "import vincent\n",
    "\n",
    "vincent.core.initialize_notebook()\n",
    "\n",
    "state_topo=\"https://raw.githubusercontent.com/wrobstory/vincent_map_data/master/us_counties.topo.json\"\n",
    "#r'us_counties.topo.json'\n",
    "geo_data = [{'name': 'counties',\n",
    "             'url': state_topo,\n",
    "             'feature': 'us_counties.geo'}]\n",
    "\n",
    "vis = vincent.Map(data=county_2000, geo_data=geo_data, scale=1000,\n",
    "                  projection='albersUsa', data_bind='Poverty Percent All Ages',\n",
    "                  data_key='FIPS', map_key={'counties': 'properties.FIPS'},brew='YlGnBu')\n",
    "vis.scales['color'].type = 'threshold'\n",
    "vis.scales['color'].domain = [0,4,6,8,10,12,20,30]\n",
    "vis.legend(title='Poverty 2000 (%)')\n",
    "vis.to_json('vega.json')\n",
    "vis.display()\n"
   ]
  },
  {
   "cell_type": "markdown",
   "metadata": {},
   "source": [
    "### Adding map for overall percentage of poverty for each county in 2000."
   ]
  },
  {
   "cell_type": "code",
   "execution_count": null,
   "metadata": {
    "collapsed": true,
    "scrolled": false
   },
   "outputs": [],
   "source": [
    "county_2013=county_stat[county_stat['Year']=='2013']\n",
    "county_2013=county_2013.dropna(axis=0)\n",
    "county_2013['Poverty Percent All Ages']=pd.to_numeric(county_2013['Poverty Percent All Ages'], errors='coerce')"
   ]
  },
  {
   "cell_type": "code",
   "execution_count": null,
   "metadata": {
    "collapsed": true,
    "scrolled": false
   },
   "outputs": [],
   "source": [
    "vis = vincent.Map(data=county_2013, geo_data=geo_data, scale=1000,\n",
    "                  projection='albersUsa', data_bind='Poverty Percent All Ages',\n",
    "                  data_key='FIPS', map_key={'counties': 'properties.FIPS'},brew='YlGnBu')\n",
    "vis.scales['color'].type = 'threshold'\n",
    "vis.scales['color'].domain = [0,4,6,8,10,12,20,30]\n",
    "vis.legend(title='Poverty 2013 (%)')\n",
    "vis.to_json('vega.json')\n",
    "vis.display()\n"
   ]
  },
  {
   "cell_type": "markdown",
   "metadata": {},
   "source": [
    "### Adding map for overall percentage of poverty for each county in 2000."
   ]
  },
  {
   "cell_type": "code",
   "execution_count": null,
   "metadata": {
    "collapsed": true,
    "scrolled": false
   },
   "outputs": [],
   "source": [
    "county_2000=county_2000.reset_index(level=2,drop=True)\n",
    "county_2013=county_2013.reset_index(level=2,drop=True)\n",
    "county_2013=county_2013.rename(index=str, columns={\"Poverty Percent All Ages\":\"Poverty Percent All Ages 2013\"})\n",
    "cs=pd.concat([county_2000,county_2013['Poverty Percent All Ages 2013']], axis=1)\n",
    "cs['ratio']=cs['Poverty Percent All Ages 2013']/cs['Poverty Percent All Ages']\n",
    "cs['ratio']=cs['ratio']/1.39\n",
    "cs=cs.set_index(cs['Year'],append=True)\n",
    "\n",
    "vis = vincent.Map(data=cs, geo_data=geo_data, scale=1000,\n",
    "                  projection='albersUsa', data_bind='ratio',\n",
    "                  data_key='FIPS', map_key={'counties': 'properties.FIPS'},brew='YlGnBu')\n",
    "vis.scales['color'].type = 'threshold'\n",
    "vis.scales['color'].domain = [0,0.8,0.9,1,1.1,1.2,1.3]\n",
    "vis.legend(title='Poverty 2013 (%)')\n",
    "vis.to_json('vega.json')\n",
    "vis.display()"
   ]
  },
  {
   "cell_type": "markdown",
   "metadata": {},
   "source": [
    "### Q5: Identify the extremes.\n",
    "Find out which are the counties in which the poverty percentage increased or decreased the most during the period 2000 - 2013.\n"
   ]
  },
  {
   "cell_type": "code",
   "execution_count": null,
   "metadata": {
    "collapsed": true,
    "scrolled": true
   },
   "outputs": [],
   "source": [
    "print \"County with max increase in poverty -- \" + cs[cs['ratio']==cs['ratio'].max()]['Name'].values[0].replace(\" \",\"\") + \" in state \" + cs[cs['ratio']==cs['ratio'].max()]['Postal'].values[0]\n",
    "print \"change= \" + str(cs['ratio'].max())\n",
    "print \"County with max increase in poverty -- \" + cs[cs['ratio']==cs['ratio'].min()]['Name'].values[0].replace(\" \",\"\") + \" in state \" + cs[cs['ratio']==cs['ratio'].min()]['Postal'].values[0]\n",
    "print \"change= \" + str(cs['ratio'].min())"
   ]
  }
 ],
 "metadata": {
  "anaconda-cloud": {},
  "kernelspec": {
   "display_name": "Python 2",
   "language": "python",
   "name": "python2"
  },
  "language_info": {
   "codemirror_mode": {
    "name": "ipython",
    "version": 2
   },
   "file_extension": ".py",
   "mimetype": "text/x-python",
   "name": "python",
   "nbconvert_exporter": "python",
   "pygments_lexer": "ipython2",
   "version": "2.7.13"
  }
 },
 "nbformat": 4,
 "nbformat_minor": 1
}
